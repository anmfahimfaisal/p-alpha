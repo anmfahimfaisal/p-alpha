{
  "cells": [
    {
      "cell_type": "code",
      "execution_count": 1,
      "metadata": {
        "colab": {
          "base_uri": "https://localhost:8080/"
        },
        "id": "TojGH3xZdQEp",
        "outputId": "7e28a2cc-ccde-45bb-b3dd-d8950709748b"
      },
      "outputs": [
        {
          "name": "stdout",
          "output_type": "stream",
          "text": [
            "Mounted at /content/drive\n"
          ]
        }
      ],
      "source": [
        "from google.colab import drive\n",
        "drive.mount('/content/drive')"
      ]
    },
    {
      "cell_type": "markdown",
      "metadata": {
        "id": "i9qjMl6MB21X"
      },
      "source": [
        "## Installing Spacy and downloading model\n",
        "\n"
      ]
    },
    {
      "cell_type": "code",
      "execution_count": 2,
      "metadata": {
        "id": "Y9VBZ_N7sggR"
      },
      "outputs": [],
      "source": [
        "!pip install -U spacy -q"
      ]
    },
    {
      "cell_type": "code",
      "execution_count": 3,
      "metadata": {
        "colab": {
          "base_uri": "https://localhost:8080/"
        },
        "id": "093XiK4cfeI9",
        "outputId": "7faf73bc-8c54-4ffb-96b6-7718dcd2f612"
      },
      "outputs": [
        {
          "name": "stdout",
          "output_type": "stream",
          "text": [
            "Looking in indexes: https://pypi.org/simple, https://us-python.pkg.dev/colab-wheels/public/simple/\n",
            "Collecting en-core-web-sm==3.3.0\n",
            "  Downloading https://github.com/explosion/spacy-models/releases/download/en_core_web_sm-3.3.0/en_core_web_sm-3.3.0-py3-none-any.whl (12.8 MB)\n",
            "\u001b[K     |████████████████████████████████| 12.8 MB 5.1 MB/s \n",
            "\u001b[?25hRequirement already satisfied: spacy<3.4.0,>=3.3.0.dev0 in /usr/local/lib/python3.7/dist-packages (from en-core-web-sm==3.3.0) (3.3.1)\n",
            "Requirement already satisfied: preshed<3.1.0,>=3.0.2 in /usr/local/lib/python3.7/dist-packages (from spacy<3.4.0,>=3.3.0.dev0->en-core-web-sm==3.3.0) (3.0.6)\n",
            "Requirement already satisfied: wasabi<1.1.0,>=0.9.1 in /usr/local/lib/python3.7/dist-packages (from spacy<3.4.0,>=3.3.0.dev0->en-core-web-sm==3.3.0) (0.9.1)\n",
            "Requirement already satisfied: catalogue<2.1.0,>=2.0.6 in /usr/local/lib/python3.7/dist-packages (from spacy<3.4.0,>=3.3.0.dev0->en-core-web-sm==3.3.0) (2.0.7)\n",
            "Requirement already satisfied: typing-extensions<4.2.0,>=3.7.4 in /usr/local/lib/python3.7/dist-packages (from spacy<3.4.0,>=3.3.0.dev0->en-core-web-sm==3.3.0) (4.1.1)\n",
            "Requirement already satisfied: tqdm<5.0.0,>=4.38.0 in /usr/local/lib/python3.7/dist-packages (from spacy<3.4.0,>=3.3.0.dev0->en-core-web-sm==3.3.0) (4.64.0)\n",
            "Requirement already satisfied: thinc<8.1.0,>=8.0.14 in /usr/local/lib/python3.7/dist-packages (from spacy<3.4.0,>=3.3.0.dev0->en-core-web-sm==3.3.0) (8.0.17)\n",
            "Requirement already satisfied: pydantic!=1.8,!=1.8.1,<1.9.0,>=1.7.4 in /usr/local/lib/python3.7/dist-packages (from spacy<3.4.0,>=3.3.0.dev0->en-core-web-sm==3.3.0) (1.8.2)\n",
            "Requirement already satisfied: cymem<2.1.0,>=2.0.2 in /usr/local/lib/python3.7/dist-packages (from spacy<3.4.0,>=3.3.0.dev0->en-core-web-sm==3.3.0) (2.0.6)\n",
            "Requirement already satisfied: setuptools in /usr/local/lib/python3.7/dist-packages (from spacy<3.4.0,>=3.3.0.dev0->en-core-web-sm==3.3.0) (57.4.0)\n",
            "Requirement already satisfied: murmurhash<1.1.0,>=0.28.0 in /usr/local/lib/python3.7/dist-packages (from spacy<3.4.0,>=3.3.0.dev0->en-core-web-sm==3.3.0) (1.0.7)\n",
            "Requirement already satisfied: requests<3.0.0,>=2.13.0 in /usr/local/lib/python3.7/dist-packages (from spacy<3.4.0,>=3.3.0.dev0->en-core-web-sm==3.3.0) (2.23.0)\n",
            "Requirement already satisfied: pathy>=0.3.5 in /usr/local/lib/python3.7/dist-packages (from spacy<3.4.0,>=3.3.0.dev0->en-core-web-sm==3.3.0) (0.6.1)\n",
            "Requirement already satisfied: spacy-legacy<3.1.0,>=3.0.9 in /usr/local/lib/python3.7/dist-packages (from spacy<3.4.0,>=3.3.0.dev0->en-core-web-sm==3.3.0) (3.0.9)\n",
            "Requirement already satisfied: blis<0.8.0,>=0.4.0 in /usr/local/lib/python3.7/dist-packages (from spacy<3.4.0,>=3.3.0.dev0->en-core-web-sm==3.3.0) (0.7.7)\n",
            "Requirement already satisfied: numpy>=1.15.0 in /usr/local/lib/python3.7/dist-packages (from spacy<3.4.0,>=3.3.0.dev0->en-core-web-sm==3.3.0) (1.21.6)\n",
            "Requirement already satisfied: srsly<3.0.0,>=2.4.3 in /usr/local/lib/python3.7/dist-packages (from spacy<3.4.0,>=3.3.0.dev0->en-core-web-sm==3.3.0) (2.4.3)\n",
            "Requirement already satisfied: jinja2 in /usr/local/lib/python3.7/dist-packages (from spacy<3.4.0,>=3.3.0.dev0->en-core-web-sm==3.3.0) (2.11.3)\n",
            "Requirement already satisfied: packaging>=20.0 in /usr/local/lib/python3.7/dist-packages (from spacy<3.4.0,>=3.3.0.dev0->en-core-web-sm==3.3.0) (21.3)\n",
            "Requirement already satisfied: typer<0.5.0,>=0.3.0 in /usr/local/lib/python3.7/dist-packages (from spacy<3.4.0,>=3.3.0.dev0->en-core-web-sm==3.3.0) (0.4.1)\n",
            "Requirement already satisfied: langcodes<4.0.0,>=3.2.0 in /usr/local/lib/python3.7/dist-packages (from spacy<3.4.0,>=3.3.0.dev0->en-core-web-sm==3.3.0) (3.3.0)\n",
            "Requirement already satisfied: spacy-loggers<2.0.0,>=1.0.0 in /usr/local/lib/python3.7/dist-packages (from spacy<3.4.0,>=3.3.0.dev0->en-core-web-sm==3.3.0) (1.0.2)\n",
            "Requirement already satisfied: zipp>=0.5 in /usr/local/lib/python3.7/dist-packages (from catalogue<2.1.0,>=2.0.6->spacy<3.4.0,>=3.3.0.dev0->en-core-web-sm==3.3.0) (3.8.0)\n",
            "Requirement already satisfied: pyparsing!=3.0.5,>=2.0.2 in /usr/local/lib/python3.7/dist-packages (from packaging>=20.0->spacy<3.4.0,>=3.3.0.dev0->en-core-web-sm==3.3.0) (3.0.9)\n",
            "Requirement already satisfied: smart-open<6.0.0,>=5.0.0 in /usr/local/lib/python3.7/dist-packages (from pathy>=0.3.5->spacy<3.4.0,>=3.3.0.dev0->en-core-web-sm==3.3.0) (5.2.1)\n",
            "Requirement already satisfied: certifi>=2017.4.17 in /usr/local/lib/python3.7/dist-packages (from requests<3.0.0,>=2.13.0->spacy<3.4.0,>=3.3.0.dev0->en-core-web-sm==3.3.0) (2022.6.15)\n",
            "Requirement already satisfied: urllib3!=1.25.0,!=1.25.1,<1.26,>=1.21.1 in /usr/local/lib/python3.7/dist-packages (from requests<3.0.0,>=2.13.0->spacy<3.4.0,>=3.3.0.dev0->en-core-web-sm==3.3.0) (1.24.3)\n",
            "Requirement already satisfied: idna<3,>=2.5 in /usr/local/lib/python3.7/dist-packages (from requests<3.0.0,>=2.13.0->spacy<3.4.0,>=3.3.0.dev0->en-core-web-sm==3.3.0) (2.10)\n",
            "Requirement already satisfied: chardet<4,>=3.0.2 in /usr/local/lib/python3.7/dist-packages (from requests<3.0.0,>=2.13.0->spacy<3.4.0,>=3.3.0.dev0->en-core-web-sm==3.3.0) (3.0.4)\n",
            "Requirement already satisfied: click<9.0.0,>=7.1.1 in /usr/local/lib/python3.7/dist-packages (from typer<0.5.0,>=0.3.0->spacy<3.4.0,>=3.3.0.dev0->en-core-web-sm==3.3.0) (7.1.2)\n",
            "Requirement already satisfied: MarkupSafe>=0.23 in /usr/local/lib/python3.7/dist-packages (from jinja2->spacy<3.4.0,>=3.3.0.dev0->en-core-web-sm==3.3.0) (2.0.1)\n",
            "\u001b[38;5;2m✔ Download and installation successful\u001b[0m\n",
            "You can now load the package via spacy.load('en_core_web_sm')\n"
          ]
        }
      ],
      "source": [
        "!python -m spacy download en_core_web_sm"
      ]
    },
    {
      "cell_type": "markdown",
      "metadata": {
        "id": "u8a2sg5-CuHY"
      },
      "source": [
        "## Importing packages and loading model"
      ]
    },
    {
      "cell_type": "code",
      "execution_count": 4,
      "metadata": {
        "id": "bAoKSR1m3qet"
      },
      "outputs": [],
      "source": [
        "import spacy\n",
        "from spacy.tokens import DocBin\n",
        "from tqdm import tqdm"
      ]
    },
    {
      "cell_type": "code",
      "execution_count": 5,
      "metadata": {
        "id": "y8kq1vBeC6p-"
      },
      "outputs": [],
      "source": [
        "nlp = spacy.load(\"en_core_web_sm\")"
      ]
    },
    {
      "cell_type": "code",
      "execution_count": 6,
      "metadata": {
        "colab": {
          "base_uri": "https://localhost:8080/"
        },
        "id": "LctLnTRAQQGg",
        "outputId": "046c81d4-c61c-4921-953d-14a7306b267b"
      },
      "outputs": [
        {
          "data": {
            "text/plain": [
              "['tok2vec', 'tagger', 'parser', 'attribute_ruler', 'lemmatizer', 'ner']"
            ]
          },
          "execution_count": 6,
          "metadata": {},
          "output_type": "execute_result"
        }
      ],
      "source": [
        "nlp.pipe_names"
      ]
    },
    {
      "cell_type": "code",
      "execution_count": 7,
      "metadata": {
        "colab": {
          "base_uri": "https://localhost:8080/",
          "height": 52
        },
        "id": "yJ5MHSQ-QcxF",
        "outputId": "7fed72d9-8822-40fb-e856-241e97c0adfa"
      },
      "outputs": [
        {
          "data": {
            "text/html": [
              "<span class=\"tex2jax_ignore\"><div class=\"entities\" style=\"line-height: 2.5; direction: ltr\">\n",
              "<mark class=\"entity\" style=\"background: #7aecec; padding: 0.45em 0.6em; margin: 0 0.25em; line-height: 1; border-radius: 0.35em;\">\n",
              "    Apple\n",
              "    <span style=\"font-size: 0.8em; font-weight: bold; line-height: 1; border-radius: 0.35em; vertical-align: middle; margin-left: 0.5rem\">ORG</span>\n",
              "</mark>\n",
              " is looking at buying \n",
              "<mark class=\"entity\" style=\"background: #feca74; padding: 0.45em 0.6em; margin: 0 0.25em; line-height: 1; border-radius: 0.35em;\">\n",
              "    U.K.\n",
              "    <span style=\"font-size: 0.8em; font-weight: bold; line-height: 1; border-radius: 0.35em; vertical-align: middle; margin-left: 0.5rem\">GPE</span>\n",
              "</mark>\n",
              " startup for \n",
              "<mark class=\"entity\" style=\"background: #e4e7d2; padding: 0.45em 0.6em; margin: 0 0.25em; line-height: 1; border-radius: 0.35em;\">\n",
              "    $1 billion\n",
              "    <span style=\"font-size: 0.8em; font-weight: bold; line-height: 1; border-radius: 0.35em; vertical-align: middle; margin-left: 0.5rem\">MONEY</span>\n",
              "</mark>\n",
              "</div></span>"
            ],
            "text/plain": [
              "<IPython.core.display.HTML object>"
            ]
          },
          "metadata": {},
          "output_type": "display_data"
        }
      ],
      "source": [
        "from spacy.lang.en.examples import sentences \n",
        "doc = nlp(sentences[0])\n",
        "\n",
        "from spacy import displacy\n",
        "spacy.displacy.render(doc, style=\"ent\", jupyter=True)"
      ]
    },
    {
      "cell_type": "markdown",
      "metadata": {
        "id": "TC4V6RvdDVVh"
      },
      "source": [
        "## Loading annotated data"
      ]
    },
    {
      "cell_type": "code",
      "execution_count": 8,
      "metadata": {
        "id": "yhnArBpZbg7r"
      },
      "outputs": [],
      "source": [
        "import json\n",
        "f = open('/content/drive/MyDrive/Pioneer Alpha/train.json')\n",
        "TRAIN_DATA = json.load(f)"
      ]
    },
    {
      "cell_type": "code",
      "execution_count": 9,
      "metadata": {
        "id": "uEX2YAL85iiX"
      },
      "outputs": [],
      "source": [
        "import json\n",
        "f = open('/content/drive/MyDrive/Pioneer Alpha/dev.json')\n",
        "DEV_DATA = json.load(f)"
      ]
    },
    {
      "cell_type": "code",
      "execution_count": 10,
      "metadata": {
        "colab": {
          "base_uri": "https://localhost:8080/"
        },
        "id": "2ARF4SfU5sJQ",
        "outputId": "fdbb13f6-6e62-47e3-f550-ebb18312a304"
      },
      "outputs": [
        {
          "data": {
            "text/plain": [
              "{'annotations': [['Lasagne are a type of pasta.\\r',\n",
              "   {'entities': [[0, 7, 'FOOD'], [22, 27, 'FOOD']]}],\n",
              "  ['The Miso Chicken dumpling was really good and I simply loved the bento so much.\\r',\n",
              "   {'entities': [[4, 25, 'FOOD'], [65, 70, 'FOOD']]}],\n",
              "  ['Beef Wellington is a steak dish made out of fillet steak coated with pastry.\\r',\n",
              "   {'entities': [[0, 15, 'FOOD'],\n",
              "     [21, 26, 'FOOD'],\n",
              "     [44, 56, 'FOOD'],\n",
              "     [69, 75, 'FOOD']]}],\n",
              "  ['I have finished my meal with my favourite waffle from their menu.\\r',\n",
              "   {'entities': [[42, 48, 'FOOD']]}],\n",
              "  ['The tehari would have tasted better if they added potato and used a good amount of mustard oil.\\r',\n",
              "   {'entities': [[4, 10, 'FOOD'], [50, 56, 'FOOD'], [83, 90, 'FOOD']]}],\n",
              "  ['The service was top notch and the pizza was to die for.\\r',\n",
              "   {'entities': [[34, 39, 'FOOD']]}],\n",
              "  ['Authentic Italian pizza. \\r', {'entities': [[18, 23, 'FOOD']]}],\n",
              "  ['No other pizza compares to this one.\\r', {'entities': [[9, 14, 'FOOD']]}],\n",
              "  ['The seafood soup had saffron in it which made the taste a bit weird for my palate.\\r',\n",
              "   {'entities': [[4, 16, 'FOOD'], [21, 28, 'FOOD']]}],\n",
              "  ['The ceaser salad was good in quantity but nothing extraordinary.\\r',\n",
              "   {'entities': [[4, 16, 'FOOD']]}],\n",
              "  ['Chocolate gulab jamun is a fusion and innovative variation that is made with instant gulab jamun mix and stuffed with chocolate chips and then served with a whipped chocolate ganache which is optional.\\r',\n",
              "   {'entities': [[0, 21, 'FOOD'],\n",
              "     [85, 96, 'FOOD'],\n",
              "     [118, 127, 'FOOD'],\n",
              "     [128, 133, 'FOOD'],\n",
              "     [157, 182, 'FOOD']]}],\n",
              "  ['The lime content was tad bit extra but other than that,the sweetness content was balanced.\\r',\n",
              "   {'entities': [[4, 8, 'FOOD']]}],\n",
              "  ['Jhalmuri is a popular snack from Bangladesh and India prepared by simply tossing the selected ingredients together.\\r',\n",
              "   {'entities': [[0, 8, 'FOOD']]}],\n",
              "  ['Beguni is a simple dish consists of deep-fried eggplant slices.\\r',\n",
              "   {'entities': [[0, 6, 'FOOD'], [47, 55, 'FOOD']]}],\n",
              "  ['I always enjoy my Dosa best with the coconut chutney.\\r',\n",
              "   {'entities': [[18, 22, 'FOOD'], [37, 52, 'FOOD']]}],\n",
              "  ['Parathas are often stuffed with ingredients such as boiled potatoes, cauliflower, garlic, ginger, chili, paneer, or radish.\\r',\n",
              "   {'entities': [[0, 8, 'FOOD'],\n",
              "     [59, 67, 'FOOD'],\n",
              "     [69, 80, 'FOOD'],\n",
              "     [82, 88, 'FOOD'],\n",
              "     [90, 96, 'FOOD'],\n",
              "     [98, 103, 'FOOD'],\n",
              "     [105, 111, 'FOOD'],\n",
              "     [116, 122, 'FOOD']]}],\n",
              "  ['Panipuri is a street snack that is extremely popular in India, Bangladesh, Pakistan, and Nepal.\\r',\n",
              "   {'entities': [[0, 8, 'FOOD']]}],\n",
              "  ['Ilish macher paturi is the national dish of Bangladesh.\\r',\n",
              "   {'entities': [[0, 19, 'FOOD']]}],\n",
              "  ['Chotpoti is popular in Bangladesh and West Bengal.\\r',\n",
              "   {'entities': [[0, 8, 'FOOD']]}],\n",
              "  ['Jilapi is believed to have its origins in Persia, zulbia or jalebi is an international dessert with variations that spread throughout the Middle East, India, and Asia.\\r',\n",
              "   {'entities': [[0, 6, 'FOOD'], [50, 56, 'FOOD'], [60, 66, 'FOOD']]}],\n",
              "  ['The spicy coriander dip that comes with it is heavenly.\\r',\n",
              "   {'entities': [[10, 23, 'FOOD']]}],\n",
              "  ['Chomchom is a traditional sweet from Bangladesh consisting of homemade cottage cheese called chana that is cooked in sugar syrup.\\r',\n",
              "   {'entities': [[0, 8, 'FOOD'],\n",
              "     [26, 31, 'FOOD'],\n",
              "     [71, 85, 'FOOD'],\n",
              "     [93, 98, 'FOOD'],\n",
              "     [117, 128, 'FOOD']]}],\n",
              "  ['Chhena is a variety of paneer that is commonly consumed in Bangladesh and the Orissa region in India.\\r',\n",
              "   {'entities': [[0, 6, 'FOOD'], [23, 29, 'FOOD']]}],\n",
              "  ['Haleem is a staple during the month of Ramadan in numerous Middle Eastern countries.\\r',\n",
              "   {'entities': [[0, 6, 'FOOD']]}],\n",
              "  ['Nachos chips with ample amount of ground meat, diced tomatoes, capsicum and black olives topped with melted cheese and sour cream.\\r',\n",
              "   {'entities': [[0, 6, 'FOOD'],\n",
              "     [7, 12, 'FOOD'],\n",
              "     [41, 45, 'FOOD'],\n",
              "     [53, 61, 'FOOD'],\n",
              "     [63, 71, 'FOOD'],\n",
              "     [76, 88, 'FOOD'],\n",
              "     [108, 114, 'FOOD'],\n",
              "     [124, 129, 'FOOD']]}],\n",
              "  ['Bhortas or bhartas are a group of dishes mainly associated with Bangladesh.\\r',\n",
              "   {'entities': [[0, 7, 'FOOD'], [11, 18, 'FOOD']]}],\n",
              "  ['Cheeseburger is a natural evolution of the beloved hamburger.\\r',\n",
              "   {'entities': [[0, 12, 'FOOD'], [51, 60, 'FOOD']]}],\n",
              "  ['A cupcake is a tiny cake that is baked in a thin paper mold or an aluminum cup.\\r',\n",
              "   {'entities': [[2, 9, 'FOOD'], [20, 24, 'FOOD']]}],\n",
              "  ['The most popular food of the Southern cuisine, fried chicken is the theme of many arguments.\\r',\n",
              "   {'entities': [[47, 60, 'FOOD']]}],\n",
              "  ['Burrito is a dish consisting of a wheat flour tortilla that is wrapped in such a way that it is possible to fully enclose the flavorful filling on the interior.\\r',\n",
              "   {'entities': [[0, 7, 'FOOD'], [46, 54, 'FOOD']]}],\n",
              "  ['Fajitas is a popular Tex-Mex dish made from marinated, grilled skirt steak that is served in a wheat flour tortilla.\\r',\n",
              "   {'entities': [[0, 7, 'FOOD'], [55, 74, 'FOOD'], [107, 115, 'FOOD']]}],\n",
              "  ['Tom Yum is one of the best known Thai dishes.\\r',\n",
              "   {'entities': [[0, 7, 'FOOD']]}],\n",
              "  [\"Tom kha gai is Thailand's delicious national dish coming from the north and bearing the influence of neighbouring Laos.\\r\",\n",
              "   {'entities': [[0, 11, 'FOOD']]}],\n",
              "  ['Took white bread this time but as per my tastebud, I prefer this sandwich with brown bread option.\\r',\n",
              "   {'entities': [[11, 16, 'FOOD'], [65, 73, 'FOOD'], [79, 90, 'FOOD']]}],\n",
              "  ['Widely acclaimed as the most popular Spanish dish, paella is a one-pot specialty that is based on saffron-flavored rice, while the additional ingredients may include meat, seafood, or vegetables.\\r',\n",
              "   {'entities': [[51, 57, 'FOOD'],\n",
              "     [98, 119, 'FOOD'],\n",
              "     [166, 170, 'FOOD'],\n",
              "     [172, 179, 'FOOD'],\n",
              "     [184, 194, 'FOOD']]}],\n",
              "  ['Chorizo is a Spanish sausage consisting of chopped pork meat and fat that is seasoned with paprika, and sometimes garlic.\\r',\n",
              "   {'entities': [[0, 7, 'FOOD'],\n",
              "     [21, 28, 'FOOD'],\n",
              "     [51, 55, 'FOOD'],\n",
              "     [56, 60, 'FOOD'],\n",
              "     [91, 98, 'FOOD'],\n",
              "     [114, 120, 'FOOD']]}],\n",
              "  ['Bocadillos or bocatas are Spanish sandwiches made with Spanish-style baguettes known as barra de pan, unlike regular sandwiches which are made with modern white bread, known as pan de molde in Spain.\\r',\n",
              "   {'entities': [[0, 10, 'FOOD'],\n",
              "     [14, 21, 'FOOD'],\n",
              "     [34, 44, 'FOOD'],\n",
              "     [69, 78, 'FOOD'],\n",
              "     [88, 100, 'FOOD'],\n",
              "     [117, 127, 'FOOD'],\n",
              "     [155, 166, 'FOOD'],\n",
              "     [177, 189, 'FOOD']]}],\n",
              "  ['Roti is as essential as rice.\\r',\n",
              "   {'entities': [[0, 4, 'FOOD'], [24, 28, 'FOOD']]}],\n",
              "  ['The first documented traces of naan are found in the 1300 AD notes of Amir Kushrau, an Indo-Persian poet.\\r',\n",
              "   {'entities': [[31, 35, 'FOOD']]}],\n",
              "  ['Probably the best known of all Indian dishes, butter chicken, also known as murgh makhani, is a staple dish at most Indian restaurants.\\r',\n",
              "   {'entities': [[46, 60, 'FOOD'], [76, 89, 'FOOD']]}],\n",
              "  ['Smokey chicken sandwich comes with 4 pieces of triple layered sandwich which consists of chicken,tomatoes, sliced cheese,mayo and tomato sauce\\r',\n",
              "   {'entities': [[0, 23, 'FOOD'],\n",
              "     [62, 70, 'FOOD'],\n",
              "     [89, 96, 'FOOD'],\n",
              "     [97, 105, 'FOOD'],\n",
              "     [114, 120, 'FOOD'],\n",
              "     [121, 125, 'FOOD'],\n",
              "     [130, 142, 'FOOD']]}],\n",
              "  ['Indian tikka is a dish consisting of boneless meat, usually chicken, that is cut into smaller pieces and marinated in yogurt and traditional Indian spices such as turmeric, cumin, coriander, cayenne pepper, chili, garlic, and ginger.\\r',\n",
              "   {'entities': [[0, 12, 'FOOD'],\n",
              "     [46, 50, 'FOOD'],\n",
              "     [60, 67, 'FOOD'],\n",
              "     [118, 124, 'FOOD'],\n",
              "     [163, 171, 'FOOD'],\n",
              "     [173, 178, 'FOOD'],\n",
              "     [180, 189, 'FOOD'],\n",
              "     [191, 205, 'FOOD'],\n",
              "     [207, 212, 'FOOD'],\n",
              "     [214, 220, 'FOOD'],\n",
              "     [226, 232, 'FOOD']]}],\n",
              "  ['Their honey mustard sauce goes quite well with the nuggets.\\r',\n",
              "   {'entities': [[6, 25, 'FOOD'], [51, 58, 'FOOD']]}],\n",
              "  ['Idli is a traditional, savory Indian cake that is a popular breakfast item in numerous South Indian households, although it can be found throughout the country.\\r',\n",
              "   {'entities': [[0, 4, 'FOOD'], [37, 41, 'FOOD']]}],\n",
              "  ['Chapati is an unleavened flatbread made with whole wheat flour, water, and salt.\\r',\n",
              "   {'entities': [[0, 7, 'FOOD'], [25, 34, 'FOOD']]}],\n",
              "  ['These deep-fried, triangular pastries are called samosa.\\r',\n",
              "   {'entities': [[29, 37, 'FOOD'], [49, 55, 'FOOD']]}],\n",
              "  ['Seekh kabab is a delicious, juicy Pakistani kebab variety made with a minced meat.\\r',\n",
              "   {'entities': [[0, 11, 'FOOD'], [44, 49, 'FOOD'], [77, 81, 'FOOD']]}],\n",
              "  ['Generous chicken filling with wasabi garnish wrapped in nori gives off strong sushi vibes.\\r',\n",
              "   {'entities': [[9, 16, 'FOOD'],\n",
              "     [30, 36, 'FOOD'],\n",
              "     [56, 60, 'FOOD'],\n",
              "     [78, 83, 'FOOD']]}],\n",
              "  ['Nihari is a popular meat-based dish originating from Old Delhi.\\r',\n",
              "   {'entities': [[0, 6, 'FOOD']]}],\n",
              "  ['The cream cheese layer was mixed with crushed oreos thus has a proper flavor of oreo in it overall\\r',\n",
              "   {'entities': [[4, 9, 'FOOD'],\n",
              "     [10, 16, 'FOOD'],\n",
              "     [46, 51, 'FOOD'],\n",
              "     [80, 84, 'FOOD']]}],\n",
              "  ['Gluten free pizza way better than most.\\r',\n",
              "   {'entities': [[12, 17, 'FOOD']]}],\n",
              "  ['The vegetables and mushroom was quite good but the mashed potatoes were not good.\\r',\n",
              "   {'entities': [[4, 14, 'FOOD'], [19, 27, 'FOOD'], [51, 66, 'FOOD']]}],\n",
              "  ['Starbucks is famous for its many specialty coffee drinks.\\r',\n",
              "   {'entities': [[43, 49, 'FOOD']]}],\n",
              "  ['Their Cream of Mushroom soup was also delicious but their Pasta & Garlic Mushroom are very average.\\r',\n",
              "   {'entities': [[6, 28, 'FOOD'], [58, 63, 'FOOD'], [66, 81, 'FOOD']]}],\n",
              "  ['They will offer you a whole tray of kababs (prawns, afghani chicken, murgh malai, fish, chicken boti, grilled potatoes, and grilled pineapples) and you can eat as much as you like.\\r',\n",
              "   {'entities': [[36, 42, 'FOOD'],\n",
              "     [44, 50, 'FOOD'],\n",
              "     [52, 67, 'FOOD'],\n",
              "     [69, 80, 'FOOD'],\n",
              "     [82, 87, 'FOOD'],\n",
              "     [88, 100, 'FOOD'],\n",
              "     [102, 118, 'FOOD'],\n",
              "     [124, 142, 'FOOD']]}],\n",
              "  ['The Nutella brownie was amazing but sadly I did not like the almond ones.\\r',\n",
              "   {'entities': [[4, 11, 'FOOD'], [12, 19, 'FOOD'], [61, 67, 'FOOD']]}],\n",
              "  ['The rice and lentils were cooked to the point and not dry at all.\\r',\n",
              "   {'entities': [[4, 8, 'FOOD'], [13, 20, 'FOOD']]}],\n",
              "  ['The mungdi was served with lemons which amplified the flavourful broth.\\r',\n",
              "   {'entities': [[4, 10, 'FOOD'], [27, 33, 'FOOD']]}],\n",
              "  ['This too comes with a hearty flavourful broth, rice noodles, squid, crab garnished with coriander and caramelised onions.\\r',\n",
              "   {'entities': [[40, 45, 'FOOD'],\n",
              "     [47, 59, 'FOOD'],\n",
              "     [61, 66, 'FOOD'],\n",
              "     [68, 72, 'FOOD'],\n",
              "     [88, 101, 'FOOD'],\n",
              "     [114, 120, 'FOOD']]}],\n",
              "  ['I ordered czn burak casserole which is beef and lamb cooked with butter and other spices.\\r',\n",
              "   {'entities': [[20, 29, 'FOOD'],\n",
              "     [39, 43, 'FOOD'],\n",
              "     [48, 52, 'FOOD'],\n",
              "     [65, 71, 'FOOD'],\n",
              "     [82, 88, 'FOOD']]}],\n",
              "  ['A decent size of moist dark chocolate cake with chocolate ganache, comes with a scoop of ice-cream and liquid chocolate ganache.\\r',\n",
              "   {'entities': [[23, 37, 'FOOD'],\n",
              "     [38, 42, 'FOOD'],\n",
              "     [48, 65, 'FOOD'],\n",
              "     [89, 98, 'FOOD'],\n",
              "     [103, 127, 'FOOD']]}],\n",
              "  ['The simple egg fried rice is served with mint sauce.\\r',\n",
              "   {'entities': [[11, 14, 'FOOD'], [15, 25, 'FOOD'], [41, 51, 'FOOD']]}],\n",
              "  ['The fish was fried with such a perfection that the coating was golden brown  and so crispy yet the fish inside was so soft.\\r',\n",
              "   {'entities': [[4, 8, 'FOOD']]}],\n",
              "  ['This breakfast includes toast, scrambled egg, grilled mushroom, tomato, sausage, beef bacon, beans, butter and jam.\\r',\n",
              "   {'entities': [[24, 29, 'FOOD'],\n",
              "     [31, 44, 'FOOD'],\n",
              "     [46, 62, 'FOOD'],\n",
              "     [64, 70, 'FOOD'],\n",
              "     [72, 79, 'FOOD'],\n",
              "     [81, 85, 'FOOD'],\n",
              "     [86, 91, 'FOOD'],\n",
              "     [93, 98, 'FOOD'],\n",
              "     [100, 106, 'FOOD'],\n",
              "     [111, 114, 'FOOD']]}],\n",
              "  ['The pizza was loaded with malai boti, chicken rashes, sausages, onions and green chili.\\r',\n",
              "   {'entities': [[4, 9, 'FOOD'],\n",
              "     [26, 36, 'FOOD'],\n",
              "     [38, 52, 'FOOD'],\n",
              "     [54, 62, 'FOOD'],\n",
              "     [64, 70, 'FOOD'],\n",
              "     [75, 86, 'FOOD']]}],\n",
              "  ['Beef Wellington is a steak dish made out of fillet steak coated with pastry.',\n",
              "   {'entities': [[0, 15, 'FOOD'],\n",
              "     [21, 26, 'FOOD'],\n",
              "     [44, 56, 'FOOD'],\n",
              "     [69, 75, 'FOOD']]}]],\n",
              " 'classes': ['FOOD']}"
            ]
          },
          "execution_count": 10,
          "metadata": {},
          "output_type": "execute_result"
        }
      ],
      "source": [
        "TRAIN_DATA"
      ]
    },
    {
      "cell_type": "code",
      "execution_count": 11,
      "metadata": {
        "colab": {
          "base_uri": "https://localhost:8080/"
        },
        "id": "m8N5vXI9vO7N",
        "outputId": "c1996f3a-584f-4f29-a2c1-feda443147af"
      },
      "outputs": [
        {
          "data": {
            "text/plain": [
              "{'annotations': [['This cake tastes like it has cheese in it.\\r',\n",
              "   {'entities': [[5, 9, 'FOOD'], [29, 35, 'FOOD']]}],\n",
              "  ['I always have a boiled egg for breakfast.\\r',\n",
              "   {'entities': [[16, 26, 'FOOD']]}],\n",
              "  ['You can substitute oil for butter in this recipe.\\r',\n",
              "   {'entities': [[27, 33, 'FOOD']]}],\n",
              "  ['This margarine is full of additives – just look at the label!\\r',\n",
              "   {'entities': [[5, 14, 'FOOD']]}],\n",
              "  ['Yogurt is usually very low in fat.\\r', {'entities': [[0, 6, 'FOOD']]}],\n",
              "  ['I like cottage cheese with fruit.\\r',\n",
              "   {'entities': [[7, 21, 'FOOD'], [27, 32, 'FOOD']]}],\n",
              "  ['Ice cream is popular among children.\\r', {'entities': [[0, 9, 'FOOD']]}],\n",
              "  ['She skimmed the milk of its cream.\\r',\n",
              "   {'entities': [[16, 20, 'FOOD'], [28, 33, 'FOOD']]}],\n",
              "  ['I usually have a sandwich for lunch.\\r', {'entities': [[17, 25, 'FOOD']]}],\n",
              "  ['She sliced off a piece of sausage.\\r', {'entities': [[26, 33, 'FOOD']]}],\n",
              "  ['I’d like a hamburger and an iced tea.\\r',\n",
              "   {'entities': [[11, 20, 'FOOD'], [28, 36, 'FOOD']]}],\n",
              "  ['He bought a hot dog and had it covered with all the fixings.\\r',\n",
              "   {'entities': [[12, 19, 'FOOD']]}],\n",
              "  ['She took up a slice of bread, broke it nervously, then put it aside.\\r',\n",
              "   {'entities': [[23, 28, 'FOOD']]}],\n",
              "  ['He cut the pizza into bite-sized pieces.\\r',\n",
              "   {'entities': [[11, 16, 'FOOD']]}],\n",
              "  ['The steak is so delicious that he’s licking his lips.\\r',\n",
              "   {'entities': [[4, 9, 'FOOD']]}],\n",
              "  ['For dinner we’re having a roast chicken.\\r',\n",
              "   {'entities': [[26, 31, 'FOOD'], [32, 39, 'FOOD']]}],\n",
              "  ['I would like some fish.\\r', {'entities': [[18, 22, 'FOOD']]}],\n",
              "  ['This wine goes particularly well with seafood.\\r',\n",
              "   {'entities': [[5, 9, 'FOOD'], [38, 45, 'FOOD']]}],\n",
              "  ['Can you tell me how to make barbecued kebab?\\r',\n",
              "   {'entities': [[38, 43, 'FOOD']]}],\n",
              "  ['We had bacon and eggs for breakfast.',\n",
              "   {'entities': [[7, 12, 'FOOD'], [17, 21, 'FOOD']]}]],\n",
              " 'classes': ['FOOD']}"
            ]
          },
          "execution_count": 11,
          "metadata": {},
          "output_type": "execute_result"
        }
      ],
      "source": [
        "DEV_DATA"
      ]
    },
    {
      "cell_type": "code",
      "execution_count": 12,
      "metadata": {
        "id": "55knLNGdGJag"
      },
      "outputs": [],
      "source": [
        "db = DocBin()"
      ]
    },
    {
      "cell_type": "code",
      "execution_count": 13,
      "metadata": {
        "id": "_LKms0Hq2yBs"
      },
      "outputs": [],
      "source": [
        "import pandas as pd\n",
        "import os\n",
        "from tqdm import tqdm\n",
        "from spacy.tokens import DocBin"
      ]
    },
    {
      "cell_type": "code",
      "execution_count": 14,
      "metadata": {
        "colab": {
          "base_uri": "https://localhost:8080/"
        },
        "id": "lCON6ZiH4jTl",
        "outputId": "427efff9-e795-4e63-ef44-808ab9b7c261"
      },
      "outputs": [
        {
          "name": "stderr",
          "output_type": "stream",
          "text": [
            "100%|██████████| 66/66 [00:00<00:00, 1927.13it/s]\n"
          ]
        }
      ],
      "source": [
        "for text, annot in tqdm(TRAIN_DATA['annotations']): \n",
        "    doc = nlp.make_doc(text) \n",
        "    ents = []\n",
        "    for start, end, label in annot[\"entities\"]:\n",
        "        span = doc.char_span(start, end, label=label, alignment_mode=\"contract\")\n",
        "        if span is None:\n",
        "            print(\"Skipping entity\")\n",
        "        else:\n",
        "            ents.append(span)\n",
        "    doc.ents = ents \n",
        "    db.add(doc)"
      ]
    },
    {
      "cell_type": "code",
      "execution_count": 15,
      "metadata": {
        "colab": {
          "base_uri": "https://localhost:8080/"
        },
        "id": "za6L-6a-5zSE",
        "outputId": "c3466c6f-aa0c-42dd-bf58-a86debdef61c"
      },
      "outputs": [
        {
          "name": "stderr",
          "output_type": "stream",
          "text": [
            "100%|██████████| 20/20 [00:00<00:00, 2646.33it/s]\n"
          ]
        }
      ],
      "source": [
        "for text, annot in tqdm(DEV_DATA['annotations']): \n",
        "    doc = nlp.make_doc(text) \n",
        "    ents = []\n",
        "    for start, end, label in annot[\"entities\"]:\n",
        "        span = doc.char_span(start, end, label=label, alignment_mode=\"contract\")\n",
        "        if span is None:\n",
        "            print(\"Skipping entity\")\n",
        "        else:\n",
        "            ents.append(span)\n",
        "    doc.ents = ents \n",
        "    db.add(doc)"
      ]
    },
    {
      "cell_type": "code",
      "execution_count": 16,
      "metadata": {
        "id": "Yvc2OgwC5Ade"
      },
      "outputs": [],
      "source": [
        "db.to_disk(\"./train_data.spacy\")\n",
        "db.to_disk(\"./dev_data.spacy\")"
      ]
    },
    {
      "cell_type": "markdown",
      "metadata": {
        "id": "-Qtnanp4SXVY"
      },
      "source": [
        "## Revision data"
      ]
    },
    {
      "cell_type": "code",
      "execution_count": 17,
      "metadata": {
        "colab": {
          "base_uri": "https://localhost:8080/"
        },
        "id": "6FK-PbDIQOFL",
        "outputId": "c1713c33-6bbd-49d6-f8ce-bd39f359fd94"
      },
      "outputs": [
        {
          "name": "stderr",
          "output_type": "stream",
          "text": [
            "/usr/local/lib/python3.7/dist-packages/IPython/core/interactiveshell.py:2882: DtypeWarning: Columns (188,189,190,191,192,193,194,195,196,197,198,199,200,201,202,203,204,205,206,207,208,209,210,211,212,213,214,215,216,217,218,219,220,221,222,223,224,225,226,227,228,229) have mixed types.Specify dtype option on import or set low_memory=False.\n",
            "  exec(code_obj, self.user_global_ns, self.user_ns)\n"
          ]
        }
      ],
      "source": [
        "df = pd.read_csv(\"/content/drive/MyDrive/Pioneer Alpha/rev.csv\")"
      ]
    },
    {
      "cell_type": "code",
      "execution_count": 18,
      "metadata": {
        "colab": {
          "base_uri": "https://localhost:8080/"
        },
        "id": "lEAHSpp3SDNa",
        "outputId": "128b72f8-bfd1-4ebd-a2ef-45403cd6b555"
      },
      "outputs": [
        {
          "name": "stderr",
          "output_type": "stream",
          "text": [
            "/usr/local/lib/python3.7/dist-packages/ipykernel_launcher.py:1: FutureWarning: In a future version of pandas all arguments of DataFrame.drop except for the argument 'labels' will be keyword-only\n",
            "  \"\"\"Entry point for launching an IPython kernel.\n"
          ]
        }
      ],
      "source": [
        "df.drop(df.columns.difference(['Article']), 1, inplace=True)"
      ]
    },
    {
      "cell_type": "code",
      "execution_count": 19,
      "metadata": {
        "colab": {
          "base_uri": "https://localhost:8080/",
          "height": 206
        },
        "id": "OST5cpSbSIci",
        "outputId": "f54ff7ec-c73e-424b-8168-967ffe1bf1e9"
      },
      "outputs": [
        {
          "data": {
            "text/html": [
              "\n",
              "  <div id=\"df-6f69d130-5738-498d-a156-f5293f64ae7a\">\n",
              "    <div class=\"colab-df-container\">\n",
              "      <div>\n",
              "<style scoped>\n",
              "    .dataframe tbody tr th:only-of-type {\n",
              "        vertical-align: middle;\n",
              "    }\n",
              "\n",
              "    .dataframe tbody tr th {\n",
              "        vertical-align: top;\n",
              "    }\n",
              "\n",
              "    .dataframe thead th {\n",
              "        text-align: right;\n",
              "    }\n",
              "</style>\n",
              "<table border=\"1\" class=\"dataframe\">\n",
              "  <thead>\n",
              "    <tr style=\"text-align: right;\">\n",
              "      <th></th>\n",
              "      <th>Article</th>\n",
              "    </tr>\n",
              "  </thead>\n",
              "  <tbody>\n",
              "    <tr>\n",
              "      <th>0</th>\n",
              "      <td>In the Washington of 2016, even when the polic...</td>\n",
              "    </tr>\n",
              "    <tr>\n",
              "      <th>1</th>\n",
              "      <td>Donald Trump has used Twitter  —   his prefe...</td>\n",
              "    </tr>\n",
              "    <tr>\n",
              "      <th>2</th>\n",
              "      <td>Donald Trump is unabashedly praising Russian...</td>\n",
              "    </tr>\n",
              "    <tr>\n",
              "      <th>3</th>\n",
              "      <td>Updated at 2:50 p. m. ET, Russian President Vl...</td>\n",
              "    </tr>\n",
              "    <tr>\n",
              "      <th>4</th>\n",
              "      <td>From photography, illustration and video, to d...</td>\n",
              "    </tr>\n",
              "  </tbody>\n",
              "</table>\n",
              "</div>\n",
              "      <button class=\"colab-df-convert\" onclick=\"convertToInteractive('df-6f69d130-5738-498d-a156-f5293f64ae7a')\"\n",
              "              title=\"Convert this dataframe to an interactive table.\"\n",
              "              style=\"display:none;\">\n",
              "        \n",
              "  <svg xmlns=\"http://www.w3.org/2000/svg\" height=\"24px\"viewBox=\"0 0 24 24\"\n",
              "       width=\"24px\">\n",
              "    <path d=\"M0 0h24v24H0V0z\" fill=\"none\"/>\n",
              "    <path d=\"M18.56 5.44l.94 2.06.94-2.06 2.06-.94-2.06-.94-.94-2.06-.94 2.06-2.06.94zm-11 1L8.5 8.5l.94-2.06 2.06-.94-2.06-.94L8.5 2.5l-.94 2.06-2.06.94zm10 10l.94 2.06.94-2.06 2.06-.94-2.06-.94-.94-2.06-.94 2.06-2.06.94z\"/><path d=\"M17.41 7.96l-1.37-1.37c-.4-.4-.92-.59-1.43-.59-.52 0-1.04.2-1.43.59L10.3 9.45l-7.72 7.72c-.78.78-.78 2.05 0 2.83L4 21.41c.39.39.9.59 1.41.59.51 0 1.02-.2 1.41-.59l7.78-7.78 2.81-2.81c.8-.78.8-2.07 0-2.86zM5.41 20L4 18.59l7.72-7.72 1.47 1.35L5.41 20z\"/>\n",
              "  </svg>\n",
              "      </button>\n",
              "      \n",
              "  <style>\n",
              "    .colab-df-container {\n",
              "      display:flex;\n",
              "      flex-wrap:wrap;\n",
              "      gap: 12px;\n",
              "    }\n",
              "\n",
              "    .colab-df-convert {\n",
              "      background-color: #E8F0FE;\n",
              "      border: none;\n",
              "      border-radius: 50%;\n",
              "      cursor: pointer;\n",
              "      display: none;\n",
              "      fill: #1967D2;\n",
              "      height: 32px;\n",
              "      padding: 0 0 0 0;\n",
              "      width: 32px;\n",
              "    }\n",
              "\n",
              "    .colab-df-convert:hover {\n",
              "      background-color: #E2EBFA;\n",
              "      box-shadow: 0px 1px 2px rgba(60, 64, 67, 0.3), 0px 1px 3px 1px rgba(60, 64, 67, 0.15);\n",
              "      fill: #174EA6;\n",
              "    }\n",
              "\n",
              "    [theme=dark] .colab-df-convert {\n",
              "      background-color: #3B4455;\n",
              "      fill: #D2E3FC;\n",
              "    }\n",
              "\n",
              "    [theme=dark] .colab-df-convert:hover {\n",
              "      background-color: #434B5C;\n",
              "      box-shadow: 0px 1px 3px 1px rgba(0, 0, 0, 0.15);\n",
              "      filter: drop-shadow(0px 1px 2px rgba(0, 0, 0, 0.3));\n",
              "      fill: #FFFFFF;\n",
              "    }\n",
              "  </style>\n",
              "\n",
              "      <script>\n",
              "        const buttonEl =\n",
              "          document.querySelector('#df-6f69d130-5738-498d-a156-f5293f64ae7a button.colab-df-convert');\n",
              "        buttonEl.style.display =\n",
              "          google.colab.kernel.accessAllowed ? 'block' : 'none';\n",
              "\n",
              "        async function convertToInteractive(key) {\n",
              "          const element = document.querySelector('#df-6f69d130-5738-498d-a156-f5293f64ae7a');\n",
              "          const dataTable =\n",
              "            await google.colab.kernel.invokeFunction('convertToInteractive',\n",
              "                                                     [key], {});\n",
              "          if (!dataTable) return;\n",
              "\n",
              "          const docLinkHtml = 'Like what you see? Visit the ' +\n",
              "            '<a target=\"_blank\" href=https://colab.research.google.com/notebooks/data_table.ipynb>data table notebook</a>'\n",
              "            + ' to learn more about interactive tables.';\n",
              "          element.innerHTML = '';\n",
              "          dataTable['output_type'] = 'display_data';\n",
              "          await google.colab.output.renderOutput(dataTable, element);\n",
              "          const docLink = document.createElement('div');\n",
              "          docLink.innerHTML = docLinkHtml;\n",
              "          element.appendChild(docLink);\n",
              "        }\n",
              "      </script>\n",
              "    </div>\n",
              "  </div>\n",
              "  "
            ],
            "text/plain": [
              "                                             Article\n",
              "0  In the Washington of 2016, even when the polic...\n",
              "1    Donald Trump has used Twitter  —   his prefe...\n",
              "2    Donald Trump is unabashedly praising Russian...\n",
              "3  Updated at 2:50 p. m. ET, Russian President Vl...\n",
              "4  From photography, illustration and video, to d..."
            ]
          },
          "execution_count": 19,
          "metadata": {},
          "output_type": "execute_result"
        }
      ],
      "source": [
        "df.head()"
      ]
    },
    {
      "cell_type": "code",
      "execution_count": 20,
      "metadata": {
        "id": "_m9xbkG2Sfe_"
      },
      "outputs": [],
      "source": [
        "nlp = spacy.load(\"en_core_web_sm\")"
      ]
    },
    {
      "cell_type": "code",
      "execution_count": 21,
      "metadata": {
        "id": "vjLrLN1qTHeM"
      },
      "outputs": [],
      "source": [
        "import re"
      ]
    },
    {
      "cell_type": "code",
      "execution_count": 24,
      "metadata": {
        "id": "_cBrLb8bStT5"
      },
      "outputs": [],
      "source": [
        "revision_texts = []"
      ]
    },
    {
      "cell_type": "code",
      "execution_count": 23,
      "metadata": {
        "colab": {
          "base_uri": "https://localhost:8080/"
        },
        "id": "imF7SLaTUhLu",
        "outputId": "ee0d0a5d-d7e8-434a-d641-59587b0449f7"
      },
      "outputs": [
        {
          "name": "stderr",
          "output_type": "stream",
          "text": [
            "/usr/local/lib/python3.7/dist-packages/spacy/pipeline/lemmatizer.py:211: UserWarning: [W108] The rule-based lemmatizer did not find POS annotation for one or more tokens. Check that your pipeline includes components that assign token.pos, typically 'tagger'+'attribute_ruler' or 'morphologizer'.\n",
            "  warnings.warn(Warnings.W108)\n"
          ]
        }
      ],
      "source": [
        "revisions = []\n",
        "for doc in nlp.pipe(revision_texts, batch_size=50, disable=[\"tagger\", \"parser\"]):\n",
        "    if len(doc.ents) > 0:\n",
        "        revisions.append((doc.text, {\"entities\": [(e.start_char, e.end_char, e.label_) for e in doc.ents]}))"
      ]
    },
    {
      "cell_type": "code",
      "execution_count": 25,
      "metadata": {
        "id": "5_nc-VHcXElu"
      },
      "outputs": [],
      "source": [
        "import random"
      ]
    },
    {
      "cell_type": "code",
      "execution_count": 26,
      "metadata": {
        "id": "5PWUtK4kW6Dm"
      },
      "outputs": [],
      "source": [
        "# create arrays to store the revision data\n",
        "TRAIN_REVISION_DATA = []\n",
        "TEST_REVISION_DATA = []\n",
        "\n",
        "# create dictionaries to keep count of the different entities\n",
        "TRAIN_ENTITY_COUNTER = {}\n",
        "TEST_ENTITY_COUNTER = {}\n",
        "\n",
        "# This will help distribute the entities (i.e. we don't want 1000 PERSON entities, but only 80 ORG entities)\n",
        "REVISION_SENTENCE_SOFT_LIMIT = 100\n",
        "\n",
        "# helper function for incrementing the revision counters\n",
        "def increment_revision_counters(entity_counter, entities):\n",
        "    for entity in entities:\n",
        "        label = entity[2]\n",
        "        if label in entity_counter:\n",
        "            entity_counter[label] += 1\n",
        "        else:\n",
        "            entity_counter[label] = 1\n",
        "\n",
        "random.shuffle(revisions)\n",
        "for revision in revisions:\n",
        "    # get the entities from the revision sentence\n",
        "    entities = revision[1][\"entities\"]\n",
        "\n",
        "    # simple hack to make sure spaCy entities don't get too one-sided\n",
        "    should_append_to_train_counter = 0\n",
        "    for _, _, label in entities:\n",
        "        if label in TRAIN_ENTITY_COUNTER and TRAIN_ENTITY_COUNTER[label] > REVISION_SENTENCE_SOFT_LIMIT:\n",
        "            should_append_to_train_counter -= 1\n",
        "        else:\n",
        "            should_append_to_train_counter += 1\n",
        "\n",
        "    # simple switch for deciding whether to append to train data or test data\n",
        "    if should_append_to_train_counter >= 0:\n",
        "        TRAIN_REVISION_DATA.append(revision)\n",
        "        increment_revision_counters(TRAIN_ENTITY_COUNTER, entities)\n",
        "    else:\n",
        "        TEST_REVISION_DATA.append(revision)\n",
        "        increment_revision_counters(TEST_ENTITY_COUNTER, entities)"
      ]
    },
    {
      "cell_type": "code",
      "execution_count": 27,
      "metadata": {
        "colab": {
          "base_uri": "https://localhost:8080/"
        },
        "id": "TKd7I0RxXHYS",
        "outputId": "49836ae5-99ec-47bb-cc31-928ad76e3b32"
      },
      "outputs": [
        {
          "data": {
            "text/plain": [
              "{'CARDINAL': 149,\n",
              " 'DATE': 204,\n",
              " 'EVENT': 74,\n",
              " 'FAC': 88,\n",
              " 'GPE': 157,\n",
              " 'LANGUAGE': 27,\n",
              " 'LAW': 33,\n",
              " 'LOC': 102,\n",
              " 'MONEY': 103,\n",
              " 'NORP': 120,\n",
              " 'ORDINAL': 108,\n",
              " 'ORG': 209,\n",
              " 'PERCENT': 101,\n",
              " 'PERSON': 191,\n",
              " 'PRODUCT': 75,\n",
              " 'QUANTITY': 75,\n",
              " 'TIME': 105,\n",
              " 'WORK_OF_ART': 102}"
            ]
          },
          "execution_count": 27,
          "metadata": {},
          "output_type": "execute_result"
        }
      ],
      "source": [
        "TRAIN_ENTITY_COUNTER"
      ]
    },
    {
      "cell_type": "code",
      "execution_count": 28,
      "metadata": {
        "colab": {
          "base_uri": "https://localhost:8080/"
        },
        "id": "7H0F3pSkXMLM",
        "outputId": "f2c003f0-31f2-452c-e4cc-c451c94bddbe"
      },
      "outputs": [
        {
          "data": {
            "text/plain": [
              "{'CARDINAL': 1601,\n",
              " 'DATE': 2322,\n",
              " 'EVENT': 17,\n",
              " 'FAC': 23,\n",
              " 'GPE': 1944,\n",
              " 'LANGUAGE': 6,\n",
              " 'LAW': 4,\n",
              " 'LOC': 89,\n",
              " 'MONEY': 119,\n",
              " 'NORP': 900,\n",
              " 'ORDINAL': 283,\n",
              " 'ORG': 3257,\n",
              " 'PERCENT': 95,\n",
              " 'PERSON': 3528,\n",
              " 'PRODUCT': 14,\n",
              " 'QUANTITY': 12,\n",
              " 'TIME': 140,\n",
              " 'WORK_OF_ART': 35}"
            ]
          },
          "execution_count": 28,
          "metadata": {},
          "output_type": "execute_result"
        }
      ],
      "source": [
        "TEST_ENTITY_COUNTER"
      ]
    },
    {
      "cell_type": "code",
      "execution_count": 29,
      "metadata": {
        "colab": {
          "base_uri": "https://localhost:8080/"
        },
        "id": "-TYAdC4DXYW7",
        "outputId": "56d7325c-92e1-4b8d-d161-7eaea88bc93d"
      },
      "outputs": [
        {
          "data": {
            "text/plain": [
              "1"
            ]
          },
          "execution_count": 29,
          "metadata": {},
          "output_type": "execute_result"
        }
      ],
      "source": [
        "ner = nlp.get_pipe(\"ner\")\n",
        "ner.add_label(\"FOOD\")"
      ]
    },
    {
      "cell_type": "code",
      "execution_count": 30,
      "metadata": {
        "id": "1ZATyz2lXdh0"
      },
      "outputs": [],
      "source": [
        "pipe_exceptions = [\"ner\", \"trf_wordpiecer\", \"trf_tok2vec\"]\n",
        "other_pipes = [pipe for pipe in nlp.pipe_names if pipe not in pipe_exceptions]"
      ]
    },
    {
      "cell_type": "markdown",
      "metadata": {
        "id": "uGGtzfdSjU5i"
      },
      "source": [
        "##Preparing for training"
      ]
    },
    {
      "cell_type": "code",
      "execution_count": 31,
      "metadata": {
        "colab": {
          "base_uri": "https://localhost:8080/"
        },
        "id": "0ft0dCPheMh6",
        "outputId": "50818010-d3c7-4283-8381-a5fcfb8a8197"
      },
      "outputs": [
        {
          "name": "stdout",
          "output_type": "stream",
          "text": [
            "\u001b[38;5;3m⚠ To generate a more effective transformer-based config (GPU-only),\n",
            "install the spacy-transformers package and re-run this command. The config\n",
            "generated now does not use transformers.\u001b[0m\n",
            "\u001b[38;5;4mℹ Generated config template specific for your use case\u001b[0m\n",
            "- Language: en\n",
            "- Pipeline: ner\n",
            "- Optimize for: efficiency\n",
            "- Hardware: CPU\n",
            "- Transformer: None\n",
            "\u001b[38;5;2m✔ Auto-filled config with all values\u001b[0m\n",
            "\u001b[38;5;2m✔ Saved config\u001b[0m\n",
            "config.cfg\n",
            "You can now add your data and train your pipeline:\n",
            "python -m spacy train config.cfg --paths.train ./train.spacy --paths.dev ./dev.spacy\n"
          ]
        }
      ],
      "source": [
        "!python -m spacy init config config.cfg --lang en --pipeline ner --optimize efficiency"
      ]
    },
    {
      "cell_type": "code",
      "execution_count": 32,
      "metadata": {
        "colab": {
          "base_uri": "https://localhost:8080/"
        },
        "id": "7tmGB4PDKrLr",
        "outputId": "a5ac1a11-02b6-4df7-aad4-9cfea1ceabb4"
      },
      "outputs": [
        {
          "name": "stdout",
          "output_type": "stream",
          "text": [
            "\u001b[38;5;4mℹ Saving to output directory: .\u001b[0m\n",
            "\u001b[38;5;4mℹ Using GPU: 0\u001b[0m\n",
            "\u001b[1m\n",
            "=========================== Initializing pipeline ===========================\u001b[0m\n",
            "[2022-06-24 21:10:59,187] [INFO] Set up nlp object from config\n",
            "[2022-06-24 21:10:59,197] [INFO] Pipeline: ['tok2vec', 'ner']\n",
            "[2022-06-24 21:10:59,201] [INFO] Created vocabulary\n",
            "[2022-06-24 21:10:59,202] [INFO] Finished initializing nlp object\n",
            "[2022-06-24 21:11:13,434] [INFO] Initialized pipeline components: ['tok2vec', 'ner']\n",
            "\u001b[38;5;2m✔ Initialized pipeline\u001b[0m\n",
            "\u001b[1m\n",
            "============================= Training pipeline =============================\u001b[0m\n",
            "\u001b[38;5;4mℹ Pipeline: ['tok2vec', 'ner']\u001b[0m\n",
            "\u001b[38;5;4mℹ Initial learn rate: 0.001\u001b[0m\n",
            "E    #       LOSS TOK2VEC  LOSS NER  ENTS_F  ENTS_P  ENTS_R  SCORE \n",
            "---  ------  ------------  --------  ------  ------  ------  ------\n",
            "  0       0          0.00     45.33    3.01    2.97    3.06    0.03\n",
            " 13     200         79.19   1757.06  100.00  100.00  100.00    1.00\n",
            " 29     400         52.37     21.50  100.00  100.00  100.00    1.00\n",
            " 50     600         65.19     23.46  100.00  100.00  100.00    1.00\n",
            " 74     800         76.23     19.71  100.00  100.00  100.00    1.00\n",
            "105    1000        100.02     29.50  100.00  100.00  100.00    1.00\n",
            "142    1200        275.58     58.27  100.00  100.00  100.00    1.00\n",
            "188    1400         34.26     11.05  100.00  100.00  100.00    1.00\n",
            "242    1600         98.09     14.84  100.00  100.00  100.00    1.00\n",
            "309    1800        102.51      9.09  100.00  100.00  100.00    1.00\n",
            "\u001b[38;5;2m✔ Saved pipeline to output directory\u001b[0m\n",
            "model-last\n"
          ]
        }
      ],
      "source": [
        "!python -m spacy train /content/config.cfg --output ./ --gpu-id 0 --paths.train /content/train_data.spacy --paths.dev /content/dev_data.spacy"
      ]
    },
    {
      "cell_type": "code",
      "execution_count": 34,
      "metadata": {
        "id": "as53VX04L4as"
      },
      "outputs": [],
      "source": [
        "nlp_ner = spacy.load(\"/content/model-best\")"
      ]
    },
    {
      "cell_type": "code",
      "execution_count": 35,
      "metadata": {
        "id": "rLiuMpukM5NI"
      },
      "outputs": [],
      "source": [
        "doc = nlp_ner('''Out of your chicken breast rut? Pork chops are truly \"the other white meat\" — a lean option that's just as versatile and delicious. You'll love these chops breaded and seared, marinated and grilled, or browned and simmered in a fantastically flavorful sauce. We've included recipes for thick- and thin-cut chops to fit your family's needs. Just like chicken, pork also adapts to other cuisines (it even outranks chicken as the most popular protein in the world). Enjoy flavors from China, Italy, Germany, and the U.S.''')"
      ]
    },
    {
      "cell_type": "code",
      "execution_count": 36,
      "metadata": {
        "colab": {
          "base_uri": "https://localhost:8080/",
          "height": 192
        },
        "id": "d_m3eHUiNtk-",
        "outputId": "57e04a16-f93d-49cd-af5c-0d4cac6834ae"
      },
      "outputs": [
        {
          "data": {
            "text/html": [
              "<span class=\"tex2jax_ignore\"><div class=\"entities\" style=\"line-height: 2.5; direction: ltr\">Out of your \n",
              "<mark class=\"entity\" style=\"background: #ddd; padding: 0.45em 0.6em; margin: 0 0.25em; line-height: 1; border-radius: 0.35em;\">\n",
              "    chicken breast\n",
              "    <span style=\"font-size: 0.8em; font-weight: bold; line-height: 1; border-radius: 0.35em; vertical-align: middle; margin-left: 0.5rem\">FOOD</span>\n",
              "</mark>\n",
              " rut? \n",
              "<mark class=\"entity\" style=\"background: #ddd; padding: 0.45em 0.6em; margin: 0 0.25em; line-height: 1; border-radius: 0.35em;\">\n",
              "    Pork\n",
              "    <span style=\"font-size: 0.8em; font-weight: bold; line-height: 1; border-radius: 0.35em; vertical-align: middle; margin-left: 0.5rem\">FOOD</span>\n",
              "</mark>\n",
              " \n",
              "<mark class=\"entity\" style=\"background: #ddd; padding: 0.45em 0.6em; margin: 0 0.25em; line-height: 1; border-radius: 0.35em;\">\n",
              "    chops\n",
              "    <span style=\"font-size: 0.8em; font-weight: bold; line-height: 1; border-radius: 0.35em; vertical-align: middle; margin-left: 0.5rem\">FOOD</span>\n",
              "</mark>\n",
              " are truly &quot;the other \n",
              "<mark class=\"entity\" style=\"background: #ddd; padding: 0.45em 0.6em; margin: 0 0.25em; line-height: 1; border-radius: 0.35em;\">\n",
              "    white meat\n",
              "    <span style=\"font-size: 0.8em; font-weight: bold; line-height: 1; border-radius: 0.35em; vertical-align: middle; margin-left: 0.5rem\">FOOD</span>\n",
              "</mark>\n",
              "&quot; — a lean option that's just as versatile and delicious. You'll love these \n",
              "<mark class=\"entity\" style=\"background: #ddd; padding: 0.45em 0.6em; margin: 0 0.25em; line-height: 1; border-radius: 0.35em;\">\n",
              "    chops breaded\n",
              "    <span style=\"font-size: 0.8em; font-weight: bold; line-height: 1; border-radius: 0.35em; vertical-align: middle; margin-left: 0.5rem\">FOOD</span>\n",
              "</mark>\n",
              " and \n",
              "<mark class=\"entity\" style=\"background: #ddd; padding: 0.45em 0.6em; margin: 0 0.25em; line-height: 1; border-radius: 0.35em;\">\n",
              "    seared\n",
              "    <span style=\"font-size: 0.8em; font-weight: bold; line-height: 1; border-radius: 0.35em; vertical-align: middle; margin-left: 0.5rem\">FOOD</span>\n",
              "</mark>\n",
              ", marinated and \n",
              "<mark class=\"entity\" style=\"background: #ddd; padding: 0.45em 0.6em; margin: 0 0.25em; line-height: 1; border-radius: 0.35em;\">\n",
              "    grilled\n",
              "    <span style=\"font-size: 0.8em; font-weight: bold; line-height: 1; border-radius: 0.35em; vertical-align: middle; margin-left: 0.5rem\">FOOD</span>\n",
              "</mark>\n",
              ", or browned and \n",
              "<mark class=\"entity\" style=\"background: #ddd; padding: 0.45em 0.6em; margin: 0 0.25em; line-height: 1; border-radius: 0.35em;\">\n",
              "    simmered\n",
              "    <span style=\"font-size: 0.8em; font-weight: bold; line-height: 1; border-radius: 0.35em; vertical-align: middle; margin-left: 0.5rem\">FOOD</span>\n",
              "</mark>\n",
              " in a fantastically flavorful \n",
              "<mark class=\"entity\" style=\"background: #ddd; padding: 0.45em 0.6em; margin: 0 0.25em; line-height: 1; border-radius: 0.35em;\">\n",
              "    sauce\n",
              "    <span style=\"font-size: 0.8em; font-weight: bold; line-height: 1; border-radius: 0.35em; vertical-align: middle; margin-left: 0.5rem\">FOOD</span>\n",
              "</mark>\n",
              ". We've included \n",
              "<mark class=\"entity\" style=\"background: #ddd; padding: 0.45em 0.6em; margin: 0 0.25em; line-height: 1; border-radius: 0.35em;\">\n",
              "    recipes\n",
              "    <span style=\"font-size: 0.8em; font-weight: bold; line-height: 1; border-radius: 0.35em; vertical-align: middle; margin-left: 0.5rem\">FOOD</span>\n",
              "</mark>\n",
              " for \n",
              "<mark class=\"entity\" style=\"background: #ddd; padding: 0.45em 0.6em; margin: 0 0.25em; line-height: 1; border-radius: 0.35em;\">\n",
              "    thick-\n",
              "    <span style=\"font-size: 0.8em; font-weight: bold; line-height: 1; border-radius: 0.35em; vertical-align: middle; margin-left: 0.5rem\">FOOD</span>\n",
              "</mark>\n",
              " and thin-cut chops to fit your family's needs. Just like \n",
              "<mark class=\"entity\" style=\"background: #ddd; padding: 0.45em 0.6em; margin: 0 0.25em; line-height: 1; border-radius: 0.35em;\">\n",
              "    chicken\n",
              "    <span style=\"font-size: 0.8em; font-weight: bold; line-height: 1; border-radius: 0.35em; vertical-align: middle; margin-left: 0.5rem\">FOOD</span>\n",
              "</mark>\n",
              ", \n",
              "<mark class=\"entity\" style=\"background: #ddd; padding: 0.45em 0.6em; margin: 0 0.25em; line-height: 1; border-radius: 0.35em;\">\n",
              "    pork\n",
              "    <span style=\"font-size: 0.8em; font-weight: bold; line-height: 1; border-radius: 0.35em; vertical-align: middle; margin-left: 0.5rem\">FOOD</span>\n",
              "</mark>\n",
              " also adapts to other cuisines (it even outranks \n",
              "<mark class=\"entity\" style=\"background: #ddd; padding: 0.45em 0.6em; margin: 0 0.25em; line-height: 1; border-radius: 0.35em;\">\n",
              "    chicken\n",
              "    <span style=\"font-size: 0.8em; font-weight: bold; line-height: 1; border-radius: 0.35em; vertical-align: middle; margin-left: 0.5rem\">FOOD</span>\n",
              "</mark>\n",
              " as the most popular protein in the world). Enjoy flavors from \n",
              "<mark class=\"entity\" style=\"background: #ddd; padding: 0.45em 0.6em; margin: 0 0.25em; line-height: 1; border-radius: 0.35em;\">\n",
              "    China\n",
              "    <span style=\"font-size: 0.8em; font-weight: bold; line-height: 1; border-radius: 0.35em; vertical-align: middle; margin-left: 0.5rem\">FOOD</span>\n",
              "</mark>\n",
              ", Italy, Germany, and the U.S.</div></span>"
            ],
            "text/plain": [
              "<IPython.core.display.HTML object>"
            ]
          },
          "metadata": {},
          "output_type": "display_data"
        }
      ],
      "source": [
        "spacy.displacy.render(doc, style=\"ent\", jupyter=True)"
      ]
    },
    {
      "cell_type": "markdown",
      "metadata": {
        "id": "DkaZSnstkuuB"
      },
      "source": [
        "**NB:**\n",
        "\n",
        "Here my code actually follows the ways mentioned in spacy documentation to add new named entity to existing model. Though I added revision data with all other entities that were in the pre trained model, still the final model doesn't predict any other entities except for FOOD due to catastrophic forgetting. Though according to this note - https://deepnote.com/@isaac-aderogba/Spacy-Food-Entities-2cc2d19c-c3ac-4321-8853-0bcf2ef565b3 shows the similar way to train a new entity into the pipeline.\n",
        "\n",
        "Another good solution can be to make a train set with FOOD labels that has all other labels annotated as well. Feding such data to the existing models can be resulted into predicting all the desired entities."
      ]
    }
  ],
  "metadata": {
    "accelerator": "GPU",
    "colab": {
      "collapsed_sections": [],
      "name": "NER.ipynb",
      "provenance": []
    },
    "gpuClass": "standard",
    "kernelspec": {
      "display_name": "Python 3",
      "name": "python3"
    },
    "language_info": {
      "name": "python"
    }
  },
  "nbformat": 4,
  "nbformat_minor": 0
}
